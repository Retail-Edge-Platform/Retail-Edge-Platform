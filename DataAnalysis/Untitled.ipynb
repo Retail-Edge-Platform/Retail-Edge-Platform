{
 "cells": [
  {
   "cell_type": "code",
   "execution_count": 1,
   "id": "c860dc2d-d7a5-47fc-a2fe-fd40525a45ab",
   "metadata": {},
   "outputs": [
    {
     "name": "stdout",
     "output_type": "stream",
     "text": [
      "(4, 3, 2)\n"
     ]
    }
   ],
   "source": [
    "def processor(a,b,c):\n",
    "    while True:\n",
    "        c += 1\n",
    "        b += 2\n",
    "        a += 3\n",
    "        yield a, b, c\n",
    "        \n",
    "w = processor(1,1,1)\n",
    "\n",
    "print(next(w))\n",
    "\n",
    "    \n",
    "    "
   ]
  },
  {
   "cell_type": "code",
   "execution_count": 2,
   "id": "73fe130c-afaf-4f57-8c14-b0dcb8abd838",
   "metadata": {},
   "outputs": [
    {
     "name": "stdout",
     "output_type": "stream",
     "text": [
      "(7, 5, 3)\n"
     ]
    }
   ],
   "source": [
    "print(next(w))"
   ]
  },
  {
   "cell_type": "code",
   "execution_count": 3,
   "id": "15a907b0-e958-4395-a6e1-8644e76eee56",
   "metadata": {},
   "outputs": [
    {
     "name": "stdout",
     "output_type": "stream",
     "text": [
      "(10, 7, 4)\n"
     ]
    }
   ],
   "source": [
    "print(next(w))\n"
   ]
  },
  {
   "cell_type": "code",
   "execution_count": 4,
   "id": "db69a44f-4ada-49a3-bb31-efe134395a81",
   "metadata": {},
   "outputs": [
    {
     "name": "stdout",
     "output_type": "stream",
     "text": [
      "(13, 9, 5)\n"
     ]
    }
   ],
   "source": [
    "print(next(w))"
   ]
  },
  {
   "cell_type": "code",
   "execution_count": 5,
   "id": "9f794fe7-5012-4f11-b0f0-e5774afd9bf5",
   "metadata": {},
   "outputs": [
    {
     "name": "stdout",
     "output_type": "stream",
     "text": [
      "(16, 11, 6)\n"
     ]
    }
   ],
   "source": [
    "print(next(w))"
   ]
  },
  {
   "cell_type": "code",
   "execution_count": 6,
   "id": "2aefc501-dbcd-4c3b-a12f-752700f39d23",
   "metadata": {},
   "outputs": [
    {
     "name": "stdout",
     "output_type": "stream",
     "text": [
      "(19, 13, 7)\n"
     ]
    }
   ],
   "source": [
    "print(next(w))"
   ]
  },
  {
   "cell_type": "code",
   "execution_count": 7,
   "id": "cbe539ab-e4c7-4299-82eb-e9ee44362c4d",
   "metadata": {},
   "outputs": [],
   "source": [
    "g = next(w)\n",
    "g+=next(w)"
   ]
  },
  {
   "cell_type": "code",
   "execution_count": 8,
   "id": "1d8402cc-e938-4695-8da0-6bac1ee81ea5",
   "metadata": {},
   "outputs": [
    {
     "name": "stdout",
     "output_type": "stream",
     "text": [
      "(22, 15, 8, 25, 17, 9)\n"
     ]
    }
   ],
   "source": [
    "print(g)"
   ]
  },
  {
   "cell_type": "code",
   "execution_count": null,
   "id": "398dd34d-1d88-4b39-8868-16485ac8cff1",
   "metadata": {},
   "outputs": [],
   "source": [
    "def proc_a(work, wpc):\n",
    "    \n",
    "    "
   ]
  }
 ],
 "metadata": {
  "kernelspec": {
   "display_name": "Python 3",
   "language": "python",
   "name": "python3"
  },
  "language_info": {
   "codemirror_mode": {
    "name": "ipython",
    "version": 3
   },
   "file_extension": ".py",
   "mimetype": "text/x-python",
   "name": "python",
   "nbconvert_exporter": "python",
   "pygments_lexer": "ipython3",
   "version": "3.9.4"
  }
 },
 "nbformat": 4,
 "nbformat_minor": 5
}
