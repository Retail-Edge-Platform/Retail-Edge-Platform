{
 "cells": [
  {
   "cell_type": "markdown",
   "id": "08eff7b9-dbe6-4414-8a88-cdc8126e5732",
   "metadata": {},
   "source": [
    "Installs a few Python modules if they don't exist.\n",
    "\n",
    "Run this first if this is a new Jupyter notebook container\n"
   ]
  },
  {
   "cell_type": "code",
   "execution_count": null,
   "id": "3841ee48-b4ef-411f-964d-e4396e361d79",
   "metadata": {
    "tags": []
   },
   "outputs": [],
   "source": [
    "import subprocess\n",
    "import sys\n",
    "\n",
    "def install(package):\n",
    "    subprocess.check_call([sys.executable, \"-m\", \"pip\", \"install\", package])\n",
    "    \n",
    "    \n",
    "try:\n",
    "    import redis\n",
    "except:\n",
    "    print(\"Installing Redis\")\n",
    "    install(redis)\n",
    "else:\n",
    "    print(\"Redis is already installed\")\n"
   ]
  }
 ],
 "metadata": {
  "kernelspec": {
   "display_name": "Python 3",
   "language": "python",
   "name": "python3"
  },
  "language_info": {
   "codemirror_mode": {
    "name": "ipython",
    "version": 3
   },
   "file_extension": ".py",
   "mimetype": "text/x-python",
   "name": "python",
   "nbconvert_exporter": "python",
   "pygments_lexer": "ipython3",
   "version": "3.9.4"
  }
 },
 "nbformat": 4,
 "nbformat_minor": 5
}
