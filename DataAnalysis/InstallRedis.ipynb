{
 "cells": [
  {
   "cell_type": "markdown",
   "id": "08eff7b9-dbe6-4414-8a88-cdc8126e5732",
   "metadata": {},
   "source": [
    "Installs a few Python modules if they don't exist.\n",
    "\n",
    "Run this first if this is a new Jupyter notebook container\n"
   ]
  },
  {
   "cell_type": "code",
   "execution_count": 3,
   "id": "3841ee48-b4ef-411f-964d-e4396e361d79",
   "metadata": {
    "tags": []
   },
   "outputs": [
    {
     "name": "stdout",
     "output_type": "stream",
     "text": [
      "Redis is already installed\n"
     ]
    }
   ],
   "source": [
    "import subprocess\n",
    "import sys\n",
    "\n",
    "def install(package):\n",
    "    subprocess.check_call([sys.executable, \"-m\", \"pip\", \"install\", package])\n",
    "    \n",
    "    \n",
    "try:\n",
    "    import redis\n",
    "except ModuleNotFoundError:\n",
    "    print(\"Installing Redis\")\n",
    "    install('redis')\n",
    "else:\n",
    "    print(\"Redis is already installed\")\n"
   ]
  },
  {
   "cell_type": "code",
   "execution_count": null,
   "id": "cf3841e6-f591-49dc-b03a-79000b86d291",
   "metadata": {},
   "outputs": [],
   "source": []
  },
  {
   "cell_type": "code",
   "execution_count": null,
   "id": "7eeae980-b2b4-40ab-a1d3-a349d58dd191",
   "metadata": {},
   "outputs": [],
   "source": []
  }
 ],
 "metadata": {
  "kernelspec": {
   "display_name": "Python 3",
   "language": "python",
   "name": "python3"
  },
  "language_info": {
   "codemirror_mode": {
    "name": "ipython",
    "version": 3
   },
   "file_extension": ".py",
   "mimetype": "text/x-python",
   "name": "python",
   "nbconvert_exporter": "python",
   "pygments_lexer": "ipython3",
   "version": "3.9.4"
  }
 },
 "nbformat": 4,
 "nbformat_minor": 5
}
