{
 "cells": [
  {
   "cell_type": "code",
   "execution_count": 1,
   "id": "fe40d332-4432-42e4-ba97-90d5d4845bdc",
   "metadata": {},
   "outputs": [],
   "source": [
    "import redis\n",
    "import os\n",
    "import matplotlib.pyplot as plt\n",
    "plt.ion()\n",
    "\n",
    "# Open Redis\n",
    "REDIS_IP_ADDRESS = os.getenv(\"REDIS_IP_ADDRESS\", \"localhost\")\n",
    "REDIS_PORT = int(os.getenv(\"REDIS_PORT\", \"6379\"))\n",
    "# Open connection to redis here and store the client as a property of this object\n",
    "    \n",
    "redis_client = redis.Redis(host=REDIS_IP_ADDRESS, port=REDIS_PORT, db=0)"
   ]
  },
  {
   "cell_type": "code",
   "execution_count": 2,
   "id": "fcb1b0ee-d10a-4fad-8fb9-8f3d50af13e3",
   "metadata": {},
   "outputs": [],
   "source": [
    "# Set the key\n",
    "key = 'sim_ts'\n",
    "#key = 'web_ts'"
   ]
  },
  {
   "cell_type": "code",
   "execution_count": 3,
   "id": "ba1272ee-d6fc-458c-9a48-9706a03be102",
   "metadata": {},
   "outputs": [
    {
     "name": "stdout",
     "output_type": "stream",
     "text": [
      "Min 1623440832070.0 Max 1623677465004.0\n",
      "Milliseconds 236632934.0\n",
      "Seconds 236632.934\n",
      "Minutes 3943.8822333333333\n",
      "Hours 65.73137055555556\n"
     ]
    }
   ],
   "source": [
    "# Get Range (zpopmax and min are destructive they pull the data out of the set)\n",
    "max_d = redis_client.zpopmax(key)\n",
    "#print(max)\n",
    "\n",
    "min_d = redis_client.zpopmin(key)\n",
    "#print(min)\n",
    "# Put them back\n",
    "max_member = max_d[0][0]\n",
    "max_score  = max_d[0][1]\n",
    "redis_client.zadd(key, {max_member: max_score})\n",
    "\n",
    "min_member = min_d[0][0]\n",
    "min_score  = min_d[0][1]\n",
    "redis_client.zadd(key, {min_member: min_score})\n",
    "\n",
    "print(\"Min\",min_score,\"Max\",max_score)\n",
    "# Calculate the time interval\n",
    "dif_score = max_score - min_score\n",
    "# In milliseconds\n",
    "print(\"Milliseconds\", dif_score)\n",
    "# Seconds\n",
    "seconds = dif_score/1000.0\n",
    "print(\"Seconds\", seconds)\n",
    "# Minutes\n",
    "minutes = seconds/60\n",
    "print(\"Minutes\", minutes)\n",
    "# Hours\n",
    "hours = minutes/60\n",
    "print(\"Hours\", hours)"
   ]
  },
  {
   "cell_type": "code",
   "execution_count": 4,
   "id": "69f60749-68b5-4a90-b163-454591be4930",
   "metadata": {},
   "outputs": [
    {
     "name": "stdout",
     "output_type": "stream",
     "text": [
      "3600000\n"
     ]
    }
   ],
   "source": [
    "# One hour is how many ms\n",
    "ms_hr = 60 * 60 * 1000\n",
    "print(ms_hr)"
   ]
  },
  {
   "cell_type": "code",
   "execution_count": 5,
   "id": "6a20b9cc-260e-4456-8f15-d33ec0d26989",
   "metadata": {},
   "outputs": [],
   "source": [
    "import math\n",
    "# Calc Interactions Per Hour\n",
    "hour_blocks = math.floor(hours + 1)\n",
    "interactions_per_hr = []\n",
    "for h in range(hour_blocks):\n",
    "    selection_min = min_score + (h * ms_hr)\n",
    "    selection_max = ms_hr + selection_min\n",
    "\n",
    "    results = redis_client.zrangebyscore(key, selection_min, selection_max)\n",
    "    \n",
    "    interactions_per_hr.append(len(results))\n",
    "    "
   ]
  },
  {
   "cell_type": "code",
   "execution_count": 6,
   "id": "4c4c0cfa-01db-4b51-8e09-abc38a99c23b",
   "metadata": {},
   "outputs": [
    {
     "data": {
      "application/vnd.jupyter.widget-view+json": {
       "model_id": "44b974a924054e47b807729e65c5e30a",
       "version_major": 2,
       "version_minor": 0
      },
      "text/plain": [
       "Canvas(toolbar=Toolbar(toolitems=[('Home', 'Reset original view', 'home', 'home'), ('Back', 'Back to previous …"
      ]
     },
     "metadata": {},
     "output_type": "display_data"
    }
   ],
   "source": [
    "# Plot\n",
    "#%matplotlib widget\n",
    "#import matplotlib.pyplot as plt\n",
    "%matplotlib widget\n",
    "x = list(range(len(interactions_per_hr)))\n",
    "plt.plot(x,interactions_per_hr)\n",
    "plt.show()"
   ]
  },
  {
   "cell_type": "code",
   "execution_count": 14,
   "id": "dc55ec2a-61a1-435b-aded-433c3ccc637d",
   "metadata": {},
   "outputs": [
    {
     "name": "stdout",
     "output_type": "stream",
     "text": [
      "1971\n",
      "1872\n",
      "Percent gaps 0.9497716894977168\n",
      "Number of sessions 74\n"
     ]
    },
    {
     "data": {
      "application/vnd.jupyter.widget-view+json": {
       "model_id": "12f74256d4324d49a02328142ccc9868",
       "version_major": 2,
       "version_minor": 0
      },
      "text/plain": [
       "Canvas(toolbar=Toolbar(toolitems=[('Home', 'Reset original view', 'home', 'home'), ('Back', 'Back to previous …"
      ]
     },
     "metadata": {},
     "output_type": "display_data"
    }
   ],
   "source": [
    "# Areas with a 120 second gap seperate \"sessions\"\n",
    "ms_gap = 120 * 1000\n",
    "# Looking for gaps of this size using a similar technique as above.\n",
    "steps = int(dif_score/ms_gap)\n",
    "print(steps)\n",
    "gaps_location = []\n",
    "all_cnt = []\n",
    "gap_counter_list = []\n",
    "gap_counter = 0\n",
    "session_counter_list = []\n",
    "session_counter = 0\n",
    "session_state = 0\n",
    "session_length_list = []\n",
    "session_length_counter = 0\n",
    "for g in range(steps):\n",
    "    selection_min = min_score + (g * ms_gap)\n",
    "    selection_max = ms_gap + selection_min\n",
    "\n",
    "    results = redis_client.zrangebyscore(key, selection_min, selection_max)\n",
    "    all_cnt.append(len(results))\n",
    "    \n",
    "    if len(results) == 0:\n",
    "        gaps_location.append([selection_min])\n",
    "        if gap_counter < 10:\n",
    "            gap_counter += 1\n",
    "        # A sesssion may have ended\n",
    "        if session_state == 1:\n",
    "            session_counter += 1\n",
    "            session_state = 0\n",
    "            session_length_list.append(session_length_counter)\n",
    "            session_length_counter = 0\n",
    "    else:\n",
    "        gap_counter = 0\n",
    "        # A sesssion has started\n",
    "        session_state = 1\n",
    "        session_length_counter += 1\n",
    "        \n",
    "    gap_counter_list.append(gap_counter)\n",
    "    session_counter_list.append(session_counter)\n",
    "\n",
    "print(len(gaps_location))\n",
    "\n",
    "gap_cnt = len(gaps_location)\n",
    "\n",
    "print(\"Percent gaps\", float(gap_cnt)/float(steps))\n",
    "\n",
    "x = list(range(len(all_cnt)))\n",
    "plt.rcParams['figure.figsize'] = [12, 8]\n",
    "plt.rcParams['figure.dpi'] = 100 # 200 e.g. is really fine, but slower\n",
    "\n",
    "print(\"Number of sessions\",max(session_counter_list))\n",
    "\n",
    "%matplotlib widget\n",
    "plt.plot(x,all_cnt)\n",
    "plt.plot(x,gap_counter_list)\n",
    "plt.plot(x,session_counter_list)\n",
    "plt.show()\n"
   ]
  },
  {
   "cell_type": "code",
   "execution_count": 11,
   "id": "f5d7871f-079d-4628-bd32-122c7fc8b0e7",
   "metadata": {},
   "outputs": [
    {
     "data": {
      "application/vnd.jupyter.widget-view+json": {
       "model_id": "29e01106fd0a45ca8d88814eaba1d43f",
       "version_major": 2,
       "version_minor": 0
      },
      "text/plain": [
       "Canvas(toolbar=Toolbar(toolitems=[('Home', 'Reset original view', 'home', 'home'), ('Back', 'Back to previous …"
      ]
     },
     "metadata": {},
     "output_type": "display_data"
    }
   ],
   "source": [
    "\n",
    "\n",
    "\n",
    "%matplotlib widget\n",
    "x = session_length_list\n",
    "num_bins = 5\n",
    "n, bins, patches = plt.hist(x, num_bins, facecolor='blue', alpha=0.5)\n",
    "plt.show()"
   ]
  },
  {
   "cell_type": "code",
   "execution_count": null,
   "id": "ad7df5f4-ca77-4cac-b9bd-20793fb33445",
   "metadata": {},
   "outputs": [],
   "source": []
  }
 ],
 "metadata": {
  "kernelspec": {
   "display_name": "Python 3",
   "language": "python",
   "name": "python3"
  },
  "language_info": {
   "codemirror_mode": {
    "name": "ipython",
    "version": 3
   },
   "file_extension": ".py",
   "mimetype": "text/x-python",
   "name": "python",
   "nbconvert_exporter": "python",
   "pygments_lexer": "ipython3",
   "version": "3.9.4"
  }
 },
 "nbformat": 4,
 "nbformat_minor": 5
}
