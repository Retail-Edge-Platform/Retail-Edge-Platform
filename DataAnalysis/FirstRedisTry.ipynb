{
 "cells": [
  {
   "cell_type": "code",
   "execution_count": 2,
   "id": "6034040e-7327-4bc9-99a4-976bc9606f57",
   "metadata": {},
   "outputs": [
    {
     "data": {
      "text/plain": [
       "True"
      ]
     },
     "execution_count": 2,
     "metadata": {},
     "output_type": "execute_result"
    }
   ],
   "source": [
    "import redis\n",
    "import os\n",
    "\n",
    "REDIS_IP_ADDRESS = os.getenv(\"REDIS_IP_ADDRESS\", \"localhost\")\n",
    "REDIS_PORT = int(os.getenv(\"REDIS_PORT\", \"6379\"))\n",
    "# Open connection to redis here and store the client as a property of this object\n",
    "    \n",
    "redis_client = redis.Redis(host=REDIS_IP_ADDRESS, port=REDIS_PORT, db=0)\n",
    "\n",
    "redis_client.set(\"AUSSIE\", 123)\n",
    "    "
   ]
  },
  {
   "cell_type": "code",
   "execution_count": null,
   "id": "d2b572ca-0161-470c-a6f1-84cfd54d13e5",
   "metadata": {},
   "outputs": [],
   "source": []
  }
 ],
 "metadata": {
  "kernelspec": {
   "display_name": "Python 3",
   "language": "python",
   "name": "python3"
  },
  "language_info": {
   "codemirror_mode": {
    "name": "ipython",
    "version": 3
   },
   "file_extension": ".py",
   "mimetype": "text/x-python",
   "name": "python",
   "nbconvert_exporter": "python",
   "pygments_lexer": "ipython3",
   "version": "3.9.4"
  }
 },
 "nbformat": 4,
 "nbformat_minor": 5
}
