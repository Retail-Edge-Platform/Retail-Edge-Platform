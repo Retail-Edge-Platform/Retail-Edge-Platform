{
 "cells": [
  {
   "cell_type": "code",
   "execution_count": 2,
   "id": "fe40d332-4432-42e4-ba97-90d5d4845bdc",
   "metadata": {},
   "outputs": [],
   "source": [
    "import redis\n",
    "import os\n",
    "import matplotlib.pyplot as plt\n",
    "\n",
    "# Open Redis\n",
    "REDIS_IP_ADDRESS = os.getenv(\"REDIS_IP_ADDRESS\", \"localhost\")\n",
    "REDIS_PORT = int(os.getenv(\"REDIS_PORT\", \"6379\"))\n",
    "# Open connection to redis here and store the client as a property of this object\n",
    "    \n",
    "redis_client = redis.Redis(host=REDIS_IP_ADDRESS, port=REDIS_PORT, db=0)"
   ]
  },
  {
   "cell_type": "code",
   "execution_count": 23,
   "id": "fcb1b0ee-d10a-4fad-8fb9-8f3d50af13e3",
   "metadata": {},
   "outputs": [],
   "source": [
    "# Set the key\n",
    "key = 'sim_ts'\n",
    "#key = 'web_ts'"
   ]
  },
  {
   "cell_type": "code",
   "execution_count": 27,
   "id": "ba1272ee-d6fc-458c-9a48-9706a03be102",
   "metadata": {},
   "outputs": [
    {
     "name": "stdout",
     "output_type": "stream",
     "text": [
      "Min 1623440788045.0 Max 1623671587359.0\n",
      "Milliseconds 230799314.0\n",
      "Seconds 230799.314\n",
      "Minutes 3846.6552333333334\n",
      "Hours 64.11092055555555\n"
     ]
    }
   ],
   "source": [
    "# Get Range (zpopmax and min are destructive they pull the data out of the set)\n",
    "max = redis_client.zpopmax(key)\n",
    "#print(max)\n",
    "\n",
    "min = redis_client.zpopmin(key)\n",
    "#print(min)\n",
    "# Put them back\n",
    "max_member = max[0][0]\n",
    "max_score  = max[0][1]\n",
    "redis_client.zadd(key, {max_member: max_score})\n",
    "\n",
    "min_member = min[0][0]\n",
    "min_score  = min[0][1]\n",
    "redis_client.zadd(key, {min_member: min_score})\n",
    "\n",
    "print(\"Min\",min_score,\"Max\",max_score)\n",
    "# Calculate the time interval\n",
    "dif_score = max_score - min_score\n",
    "# In milliseconds\n",
    "print(\"Milliseconds\", dif_score)\n",
    "# Seconds\n",
    "seconds = dif_score/1000.0\n",
    "print(\"Seconds\", seconds)\n",
    "# Minutes\n",
    "minutes = seconds/60\n",
    "print(\"Minutes\", minutes)\n",
    "# Hours\n",
    "hours = minutes/60\n",
    "print(\"Hours\", hours)"
   ]
  },
  {
   "cell_type": "code",
   "execution_count": 28,
   "id": "69f60749-68b5-4a90-b163-454591be4930",
   "metadata": {},
   "outputs": [
    {
     "name": "stdout",
     "output_type": "stream",
     "text": [
      "3600000\n"
     ]
    }
   ],
   "source": [
    "# One hour is how many ms\n",
    "ms_hr = 60 * 60 * 1000\n",
    "print(ms_hr)"
   ]
  },
  {
   "cell_type": "code",
   "execution_count": 36,
   "id": "6a20b9cc-260e-4456-8f15-d33ec0d26989",
   "metadata": {},
   "outputs": [],
   "source": [
    "import math\n",
    "# Calc Interactions Per Hour\n",
    "hour_blocks = math.floor(hours + 1)\n",
    "interactions_per_hr = []\n",
    "for h in range(hour_blocks):\n",
    "    selection_min = min_score + (h * ms_hr)\n",
    "    selection_max = ms_hr + selection_min\n",
    "\n",
    "    results = redis_client.zrangebyscore(key, selection_min, selection_max)\n",
    "    \n",
    "    interactions_per_hr.append(len(results))\n",
    "    "
   ]
  },
  {
   "cell_type": "code",
   "execution_count": 38,
   "id": "4c4c0cfa-01db-4b51-8e09-abc38a99c23b",
   "metadata": {},
   "outputs": [
    {
     "data": {
      "image/png": "[encoded data removed]",
      "text/plain": [
       "<Figure size 432x288 with 1 Axes>"
      ]
     },
     "metadata": {
      "needs_background": "light"
     },
     "output_type": "display_data"
    }
   ],
   "source": [
    "# Plot\n",
    "import matplotlib.pyplot as plt\n",
    "x = list(range(len(interactions_per_hr)))\n",
    "plt.plot(x,interactions_per_hr)\n",
    "plt.show()"
   ]
  },
  {
   "cell_type": "code",
   "execution_count": null,
   "id": "dc55ec2a-61a1-435b-aded-433c3ccc637d",
   "metadata": {},
   "outputs": [],
   "source": []
  }
 ],
 "metadata": {
  "kernelspec": {
   "display_name": "Python 3",
   "language": "python",
   "name": "python3"
  },
  "language_info": {
   "codemirror_mode": {
    "name": "ipython",
    "version": 3
   },
   "file_extension": ".py",
   "mimetype": "text/x-python",
   "name": "python",
   "nbconvert_exporter": "python",
   "pygments_lexer": "ipython3",
   "version": "3.9.4"
  }
 },
 "nbformat": 4,
 "nbformat_minor": 5
}
