{
 "cells": [
  {
   "cell_type": "code",
   "execution_count": 36,
   "id": "8312f6ef-0dd6-4ebb-9697-92460a8efcfb",
   "metadata": {},
   "outputs": [
    {
     "name": "stdout",
     "output_type": "stream",
     "text": [
      "src-id:{source_id}:product-id:{product_id}:product-name:*:interaction-type:{interaction_type}:timestamp:(?P<timestamp>.+)\n",
      "src-id:{source_id}:product-id:{product_id}:product-name:*:interaction-type:(?P<interaction_type>.+):timestamp:(?P<timestamp>.+)\n",
      "src-id:{source_id}:product-id:(?P<product_id>.+):product-name:*:interaction-type:(?P<interaction_type>.+):timestamp:(?P<timestamp>.+)\n",
      "src-id:(?P<source_id>.+):product-id:(?P<product_id>.+):product-name:*:interaction-type:(?P<interaction_type>.+):timestamp:(?P<timestamp>.+)\n",
      "src-id:(?P<source_id>.+):product-id:(?P<product_id>.+):product-name:.+:interaction-type:(?P<interaction_type>.+):timestamp:(?P<timestamp>.+)\n",
      "\n",
      "\n",
      "{'source_id': 'sim', 'product_id': '10', 'interaction_type': 'pick-up', 'timestamp': '1623443342676'}\n"
     ]
    }
   ],
   "source": [
    "import re\n",
    "\n",
    "sample_str = \"src-id:sim:product-id:10:product-name:product-10:interaction-type:pick-up:timestamp:1623443342676\"\n",
    "extract_str = r\"src-id:{source_id}:product-id:{product_id}:product-name:*:interaction-type:{interaction_type}:timestamp:{timestamp}\"\n",
    "re.search('(?P<name>.*) (?P<phone>.*)', 'John 123456')\n",
    "\n",
    "\n",
    "\"\"\"\n",
    "m = re.match(r\"(?P<first_name>\\w+) (?P<last_name>\\w+)\", \"Malcolm Reynolds\")\n",
    "m.groupdict()\n",
    "{'first_name': 'Malcolm', 'last_name': 'Reynolds'}\n",
    "\n",
    "\n",
    "r\"src-id:{source_id}:product-id:{product_id}:product-name:*:interaction-type:{interaction_type}:timestamp:{time_stamp}\"\n",
    "r\"src-id:(?P<source_id>\\w+):product-id:(?P<product_id>\\w+):product-name:\\*:interaction-type:(?P<interaction_type>\\w+):timestamp:(?P<timestamp>\\w+)\"\n",
    "\"\"\"\n",
    "if 0:\n",
    "    tp = r\"src-id:(?P<source_id>.+):product-id:(?P<product_id>.+):product-name:.+:interaction-type:(?P<interaction_type>.+):timestamp:(?P<timestamp>.+)\"\n",
    "    cp = re.compile(tp)\n",
    "\n",
    "    md = cp.match(sample_str)\n",
    "    print(md.groupdict())\n",
    "\n",
    "\n",
    "# Rewrite\n",
    "pattern_pull = r\"({[^}]+[}])\"\n",
    "\n",
    "grps = re.findall(pattern_pull, extract_str)\n",
    "\n",
    "#print(grps)\n",
    "\n",
    "string_start = True\n",
    "\n",
    "# make a list of match groups and reverse it\n",
    "matches = [m for m in re.finditer(pattern_pull, extract_str)]\n",
    "matches.reverse()\n",
    "\n",
    "pattern_str = extract_str\n",
    "\n",
    "for m in matches:\n",
    "    start = m.start(1)\n",
    "    end   = m.end(1)\n",
    "    label = m.group(1)[1:-1]\n",
    "    \n",
    "    string_to_inject = f\"(?P<{label}>.+)\"\n",
    "\n",
    "    last_index = len(pattern_str) + 2\n",
    "    end_str = pattern_str[end:last_index]\n",
    "    pattern_str = pattern_str[:start] + string_to_inject + end_str\n",
    "    \n",
    "    print(pattern_str)\n",
    "    \n",
    "pattern_str = pattern_str.replace('*','.+')\n",
    "\n",
    "print(pattern_str)\n",
    "\n",
    "print()\n",
    "print()\n",
    "\n",
    "cp = re.compile(pattern_str)\n",
    "\n",
    "md = cp.match(sample_str)\n",
    "print(md.groupdict())\n",
    "\n",
    "\n",
    "\n",
    "\n",
    "\n"
   ]
  },
  {
   "cell_type": "code",
   "execution_count": 41,
   "id": "a2d2db94-d1f0-48fb-b867-02fab0aa3475",
   "metadata": {},
   "outputs": [
    {
     "name": "stdout",
     "output_type": "stream",
     "text": [
      "['src-id', 'sim', 'product-id', '10', 'product-name', 'product-10', 'interaction-type', 'pick-up', 'timestamp', '1623443342676']\n",
      "{'src_id': 'sim', 'product_id': '10', 'product_name': 'product-10', 'interaction_type': 'pick-up', 'timestamp': '1623443342676'}\n"
     ]
    }
   ],
   "source": [
    "# Alternative (faster)\n",
    "pieces = sample_str.split(':')\n",
    "#print(pieces)\n",
    "items = iter(pieces)\n",
    "result = {x.replace('-','_'):next(items) for x in items}\n",
    "print(result)\n",
    "for x in items:\n",
    "    print (x.replace('-','_'), next(items))"
   ]
  },
  {
   "cell_type": "code",
   "execution_count": null,
   "id": "e8feb681-bf9a-45fa-89b6-30b30a870dd2",
   "metadata": {},
   "outputs": [],
   "source": [
    "# Cleaner\n",
    "def ksplit(key):\n",
    "    \"\"\"ksplit takes a redis key of the form\n",
    "       \"label1:value1:label2:value2\" \n",
    "       and converts it into a dictionary for easy access\"\"\"\n",
    "    item_list = key.split(':')\n",
    "    items = iter(item_list)\n",
    "    return {x.replace('-','_'):next(items) for x in items}\n",
    "\n"
   ]
  }
 ],
 "metadata": {
  "kernelspec": {
   "display_name": "Python 3",
   "language": "python",
   "name": "python3"
  },
  "language_info": {
   "codemirror_mode": {
    "name": "ipython",
    "version": 3
   },
   "file_extension": ".py",
   "mimetype": "text/x-python",
   "name": "python",
   "nbconvert_exporter": "python",
   "pygments_lexer": "ipython3",
   "version": "3.9.4"
  }
 },
 "nbformat": 4,
 "nbformat_minor": 5
}
